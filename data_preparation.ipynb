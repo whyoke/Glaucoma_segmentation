{
 "cells": [
  {
   "cell_type": "code",
   "execution_count": null,
   "metadata": {},
   "outputs": [],
   "source": [
    "from glob import glob\n",
    "from sklearn.model_selection import train_test_split\n",
    "import os\n",
    "import shutil\n",
    "import pandas as pd"
   ]
  },
  {
   "cell_type": "code",
   "execution_count": null,
   "metadata": {},
   "outputs": [],
   "source": [
    "def move_file(df, destination_folder):\n",
    "    for image, label in zip(df[\"img_path\"], df[\"label_path\"]):\n",
    "        shutil.copy(image, destination_folder)\n",
    "        shutil.copy(label, destination_folder)\n",
    "\n",
    "# os.makedirs(\"./G1020/val_g1020\", exist_ok=True)"
   ]
  },
  {
   "cell_type": "code",
   "execution_count": null,
   "metadata": {},
   "outputs": [],
   "source": [
    "# test_img_g1020 = glob(\"G1020/test_g1020/*.jpg\")\n",
    "# test_label_g1020 = glob(\"G1020/test_g1020/*.txt\")\n",
    "\n",
    "test_img_si = glob(\"SI/test_si_all_file/*.jpg\")\n",
    "test_label_si = glob(\"SI/test_si_all_file/*.txt\")\n",
    "\n",
    "# test_img_si.sort()\n",
    "# test_label_si.sort()\n",
    "# print(\"test: \", len(test_img_si), len(test_label_si))\n",
    "\n",
    "# g1020_val, g1020_test, g1020_val_label, g1020_test_label = train_test_split(test_img_g1020, test_label_g1020, test_size=0.5, random_state=42)\n",
    "# si_val, si_test, si_val_label, si_test_label = train_test_split(test_img_si, test_label_si, test_size=0.5, random_state=42)\n",
    "\n",
    "# df_g1020_train = pd.DataFrame({\"img_path\": g1020_train, \"label_path\": g1020_train_label})\n",
    "# df_g1020_val = pd.DataFrame({\"img_path\": g1020_val, \"label_path\": g1020_val_label})\n",
    "# df_si_val = pd.DataFrame({\"img_path\": si_val, \"label_path\": si_val_label})\n",
    "# df_si_test = pd.DataFrame({\"img_path\": si_test, \"label_path\": si_test_label})"
   ]
  },
  {
   "cell_type": "code",
   "execution_count": null,
   "metadata": {},
   "outputs": [],
   "source": [
    "g1020_train = glob(\"./G1020/test_g1020/*\")\n",
    "g1020_val = glob(\"./G1020/val_g1020/*\")\n",
    "g1020_test = glob(\"./G1020/test_g1020/\")\n",
    "\n",
    "si_train = glob(\"./SI/train_si/*\")\n",
    "si_val = glob(\"./SI/val_si/*\")\n",
    "si_test = glob(\"./SI/test_si/*\")\n",
    "\n",
    "all_train = g1020_train + si_train\n",
    "all_val = g1020_val + si_val\n",
    "all_test = g1020_test + si_test\n",
    "\n",
    "print(\"all_train: \", len(all_train))\n",
    "print(\"all_val: \", len(all_val))\n",
    "print(\"all_test: \", len(all_test))"
   ]
  },
  {
   "cell_type": "code",
   "execution_count": null,
   "metadata": {},
   "outputs": [],
   "source": [
    "all_train = glob(\"./G1020_SI/train_g1020_si/*\")\n",
    "all_val = glob(\"./G1020_SI/val_g1020_si/*\")\n",
    "\n",
    "print(\"all_train: \", len(all_train))\n",
    "print(\"all_val: \", len(all_val))"
   ]
  },
  {
   "cell_type": "code",
   "execution_count": null,
   "metadata": {},
   "outputs": [],
   "source": [
    "# for i in all_train:\n",
    "#     shutil.copy(i, \"G1020_SI/train_g1020_si\")\n",
    "\n",
    "# for i in all_val:\n",
    "#     shutil.copy(i, \"G1020_SI/val_g1020_si\")\n",
    "\n",
    "for i in all_test:\n",
    "    shutil.copy(i, \"G1020_SI/test_g1020_si\")"
   ]
  },
  {
   "cell_type": "code",
   "execution_count": null,
   "metadata": {},
   "outputs": [],
   "source": []
  }
 ],
 "metadata": {
  "kernelspec": {
   "display_name": "objdetyolo",
   "language": "python",
   "name": "python3"
  },
  "language_info": {
   "codemirror_mode": {
    "name": "ipython",
    "version": 3
   },
   "file_extension": ".py",
   "mimetype": "text/x-python",
   "name": "python",
   "nbconvert_exporter": "python",
   "pygments_lexer": "ipython3",
   "version": "3.9.16"
  },
  "orig_nbformat": 4
 },
 "nbformat": 4,
 "nbformat_minor": 2
}

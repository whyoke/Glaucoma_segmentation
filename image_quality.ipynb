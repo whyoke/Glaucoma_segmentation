{
 "cells": [
  {
   "cell_type": "code",
   "execution_count": null,
   "metadata": {},
   "outputs": [],
   "source": [
    "import os\n",
    "import sys\n",
    "import os.path as op\n",
    "import PIL\n",
    "from PIL import Image\n",
    "from fastai.vision import *\n",
    "from fastai.vision.all import *\n",
    "from typing import Union, List\n",
    "import pandas as pd\n",
    "import shutil\n",
    "\n",
    "import uvicorn\n",
    "from fastapi import File, UploadFile, FastAPI, status\n",
    "from fastapi.encoders import jsonable_encoder\n",
    "from fastapi.responses import JSONResponse\n",
    "\n",
    "from modules import (\n",
    "    DRModel,\n",
    "    DRClassifier,\n",
    "    ImageQualityModel,\n",
    "    FundusImageQualityClassifier,\n",
    "    YoloCupDiscSegmentor,\n",
    "    GlaucomaClassifier,\n",
    "    EyeScreener,\n",
    ")\n",
    "from modules.utils.segmentation_utils import *\n",
    "\n",
    "## allow loading large images\n",
    "from PIL import ImageFile\n",
    "\n",
    "DEVICE = \"cuda\" if torch.cuda.is_available() else \"cpu\"\n",
    "\n",
    "ImageFile.LOAD_TRUNCATED_IMAGES = True\n",
    "\n",
    "DEVICE = \"cuda\" if torch.cuda.is_available() else \"cpu\"\n",
    "TEMPORARY_IMAGE_FOLDER = \"temp_images\"\n",
    "YOLO_CUP_DISC_SEGMENTOR_TEMP_DIR = \"temp_predicted_masks\"\n",
    "\n",
    "image_quality_model_path = \"trained_models/image_quality_resnet18_512d_512_18ep\"\n",
    "dr_model_path = \"trained_models/dr_se_resnext50_32x4d_224_15ep\"\n",
    "cup_model_path = \"trained_models/yolo-cup-15ep/weights/best.pt\"\n",
    "disc_model_path = \"trained_models/yolo-disc-15ep/weights/best.pt\""
   ]
  },
  {
   "cell_type": "code",
   "execution_count": null,
   "metadata": {},
   "outputs": [],
   "source": [
    "screener = EyeScreener(\n",
    "    image_quality_model_path=image_quality_model_path,\n",
    "    dr_model_path=dr_model_path,\n",
    "    cup_model_path=cup_model_path,\n",
    "    disc_model_path=disc_model_path,\n",
    "    glaucoma_model_path=None,\n",
    "    device=DEVICE,\n",
    "    # Select the machine type (Nidek or Eidon).\n",
    "    machine_type=\"Nidek\",\n",
    "    # Optional kwargs for the cup_disc_segmentor and their default values.\n",
    "    # measure_mask_length_from_height = True, # If False, then from width.\n",
    "    temp_save_dir=YOLO_CUP_DISC_SEGMENTOR_TEMP_DIR,  # Change the name of the temp dir.\n",
    "    clear_temp_dir_after=False,\n",
    ")"
   ]
  },
  {
   "cell_type": "code",
   "execution_count": null,
   "metadata": {},
   "outputs": [],
   "source": [
    "def predict(image):\n",
    "    # Save the image to a temporary folder so that the screener can load it.\n",
    "    temp_image_name = \"temp_image.png\"\n",
    "    temp_image_path = op.join(TEMPORARY_IMAGE_FOLDER, temp_image_name)\n",
    "    os.makedirs(TEMPORARY_IMAGE_FOLDER, exist_ok=True)\n",
    "    image.save(temp_image_path)\n",
    "\n",
    "    # Predict the image.\n",
    "    predicted_dict = screener.predict(image_path=temp_image_path)\n",
    "    # Parse the output.\n",
    "    image_quality_output = {\n",
    "        \"Image Quality: Good\": predicted_dict[\"image_quality\"][\"probability\"][\"good\"],\n",
    "        \"Image Quality: Acceptable\": predicted_dict[\"image_quality\"][\"probability\"][\"acceptable\"],\n",
    "        \"Image Quality: Poor\": predicted_dict[\"image_quality\"][\"probability\"][\"poor\"],\n",
    "    }\n",
    "\n",
    "    return [image_quality_output]"
   ]
  },
  {
   "cell_type": "code",
   "execution_count": null,
   "metadata": {},
   "outputs": [],
   "source": [
    "df = pd.read_csv(\"../all_labels.csv\")\n",
    "df = df[[\"filename\", \"original_path\", \"image_quality\"]]\n",
    "df[\"original_path\"] = df[\"original_path\"].apply(lambda x: os.path.basename(x))\n",
    "df.dropna(inplace=True)\n",
    "df.head()"
   ]
  },
  {
   "cell_type": "code",
   "execution_count": null,
   "metadata": {},
   "outputs": [],
   "source": [
    "# os.makedirs(\"all_images\", exist_ok=True)\n",
    "\n",
    "# imgs = glob(\"../20220728-dr-dataset/*/*/*/*.jpg\")\n",
    "\n",
    "# for img in imgs:\n",
    "#     shutil.copy(img, \"all_images\")"
   ]
  },
  {
   "cell_type": "code",
   "execution_count": null,
   "metadata": {},
   "outputs": [],
   "source": [
    "from glob import glob \n",
    "\n",
    "imgs = glob(\"all_images/*.jpg\")\n",
    "original_paths = list(df[\"original_path\"])"
   ]
  },
  {
   "cell_type": "code",
   "execution_count": null,
   "metadata": {},
   "outputs": [],
   "source": [
    "from tqdm.auto import tqdm\n",
    "\n",
    "for img in tqdm(imgs):\n",
    "    img_name = os.path.basename(img)\n",
    "\n",
    "    if img_name in original_paths:\n",
    "        results = predict(Image.open(img))\n",
    "        name = os.path.basename(img)\n",
    "        quality = results[0]\n",
    "        highest_quality = max(quality, key=quality.get)\n",
    "        quality_type = highest_quality.split(': ')[1].upper()\n",
    "\n",
    "        df.loc[df[\"original_path\"] == name, \"pred_image_quality\"] = quality_type\n",
    "\n",
    "df.dropna(inplace=True)\n",
    "df.to_csv(\"pred_img_quality.csv\", index=False)"
   ]
  },
  {
   "cell_type": "code",
   "execution_count": 40,
   "metadata": {},
   "outputs": [],
   "source": [
    "dif = [df[\"image_quality\"] == df[\"pred_image_quality\"]]"
   ]
  },
  {
   "cell_type": "code",
   "execution_count": 43,
   "metadata": {},
   "outputs": [],
   "source": [
    "new_df = df[df[\"image_quality\"] != df[\"pred_image_quality\"]]"
   ]
  },
  {
   "cell_type": "code",
   "execution_count": 47,
   "metadata": {},
   "outputs": [],
   "source": [
    "os.makedirs(\"dif_quality_pred_images\", exist_ok=True)\n",
    "\n",
    "for img in new_df[\"original_path\"]:\n",
    "    shutil.copy(f\"all_images/{img}\", f\"dif_quality_pred_images/{img}\")"
   ]
  },
  {
   "cell_type": "code",
   "execution_count": null,
   "metadata": {},
   "outputs": [],
   "source": []
  }
 ],
 "metadata": {
  "kernelspec": {
   "display_name": "base",
   "language": "python",
   "name": "python3"
  },
  "language_info": {
   "codemirror_mode": {
    "name": "ipython",
    "version": 3
   },
   "file_extension": ".py",
   "mimetype": "text/x-python",
   "name": "python",
   "nbconvert_exporter": "python",
   "pygments_lexer": "ipython3",
   "version": "2022.10.undefined"
  }
 },
 "nbformat": 4,
 "nbformat_minor": 2
}
